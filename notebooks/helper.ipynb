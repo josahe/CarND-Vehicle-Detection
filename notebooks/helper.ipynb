{
 "cells": [
  {
   "cell_type": "code",
   "execution_count": null,
   "metadata": {},
   "outputs": [],
   "source": [
    "import cv2\n",
    "vidcap = cv2.VideoCapture('test_video.mp4')\n",
    "success,image = vidcap.read()\n",
    "count = 0\n",
    "success = True\n",
    "while success:\n",
    "  success,image = vidcap.read()\n",
    "  print('Read a new frame: ', success)\n",
    "  cv2.imwrite(\"test_video_frames/frame%d.jpg\" % count, image)     # save frame as JPEG file\n",
    "  count += 1"
   ]
  },
  {
   "cell_type": "code",
   "execution_count": null,
   "metadata": {},
   "outputs": [],
   "source": [
    "from PIL import Image\n",
    "project_video_frames = glob.glob('project_video_frames/*png')\n",
    "count = 0\n",
    "for img_src in project_video_frames:\n",
    "    filename = \"project_video_frames/frame%d.jpg\" % count # save frame as JPEG file\n",
    "    print(filename)\n",
    "    img = Image.open(img_src)\n",
    "    img.save(filename, \"JPEG\")\n",
    "    count += 1"
   ]
  },
  {
   "cell_type": "code",
   "execution_count": null,
   "metadata": {},
   "outputs": [],
   "source": [
    "import glob\n",
    "import cv2\n",
    "import numpy as np\n",
    "import matplotlib.image as mpimg\n",
    "project_video_frames = glob.glob('project_video_frames/*jpg')\n",
    "project_video_frame = project_video_frames[0]\n",
    "project_video_frame_image = mpimg.imread(project_video_frame)\n",
    "print(project_video_frame_image.shape)\n",
    "scale = 2\n",
    "project_video_frame_image_resized = cv2.resize(project_video_frame_image,\n",
    "                                               (np.int(project_video_frame_image.shape[1]/scale),\n",
    "                                                np.int(project_video_frame_image.shape[0]/scale)))\n",
    "print(project_video_frame_image.shape)\n",
    "print(project_video_frame_image_resized.shape)"
   ]
  },
  {
   "cell_type": "code",
   "execution_count": null,
   "metadata": {},
   "outputs": [],
   "source": [
    "bestx = 819\n",
    "bestw = 2\n",
    "\n",
    "minx = int(bestx - bestw/2)\n",
    "maxx = int(bestx + np.ceil(bestw/2) + 1)\n",
    "\n",
    "a = range(minx, maxx)\n",
    "for b in a:\n",
    "    print(b)"
   ]
  },
  {
   "cell_type": "code",
   "execution_count": null,
   "metadata": {},
   "outputs": [],
   "source": [
    "import random\n",
    "\n",
    "x = random.randint(0,9)\n",
    "y = random.randint(0,9)\n",
    "rangex = [p for p in range(x,x+9)]\n",
    "rangey = [p for p in range(y,y+9)]\n",
    "\n",
    "x = random.randint(0,9)\n",
    "y = random.randint(0,9)\n",
    "xpixels = [p for p in range(x,x+9)]\n",
    "ypixels = [p for p in range(y,y+9)]\n",
    "\n",
    "print(sorted(rangex))\n",
    "print(sorted(xpixels))\n",
    "print()\n",
    "print(sorted(rangey))\n",
    "print(sorted(ypixels))\n",
    "\n",
    "resultx = len(list(set(rangex) & set(xpixels)))\n",
    "resulty = len(list(set(rangey) & set(ypixels)))\n",
    "\n",
    "print(resultx)\n",
    "print(resulty)\n",
    "\n",
    "print((resultx+resulty)/(len(rangex)+len(rangey)))\n",
    "#print(resultx/len(rangex))"
   ]
  },
  {
   "cell_type": "code",
   "execution_count": null,
   "metadata": {},
   "outputs": [],
   "source": [
    "import imageio\n",
    "import os, sys\n",
    " \n",
    "def convertFile(inputpath, targetFormat):\n",
    "    outputpath = os.path.splitext(inputpath)[0] + '_cropped' + targetFormat\n",
    "    print(\"converting\\r\\n\\t{0}\\r\\nto\\r\\n\\t{1}\".format(inputpath, outputpath))\n",
    "\n",
    "    reader = imageio.get_reader(inputpath)\n",
    "    fps = reader.get_meta_data()['fps']\n",
    "\n",
    "    writer = imageio.get_writer(outputpath, fps=fps)\n",
    "    for i,im in enumerate(reader):\n",
    "        sys.stdout.write(\"\\rframe {0}\".format(i))\n",
    "        sys.stdout.flush()\n",
    "        y=350\n",
    "        h=16*22\n",
    "        x=600\n",
    "        w=16*45\n",
    "        writer.append_data(im[y:y+h, x:x+w])\n",
    "    print(\"\\r\\nFinalizing...\")\n",
    "    writer.close()\n",
    "    print(\"Done.\")\n",
    "\n",
    "convertFile(\"../examples/spatial_binning_animation.mp4\", \".mp4\")"
   ]
  },
  {
   "cell_type": "code",
   "execution_count": null,
   "metadata": {},
   "outputs": [],
   "source": [
    "from moviepy.editor import *\n",
    "\n",
    "clip = (VideoFileClip(\"../examples/spatial_binning_animation_cropped.mp4\"))\n",
    "clip.write_gif(\"../examples/spatial_binning_animation.gif\")"
   ]
  },
  {
   "cell_type": "code",
   "execution_count": 4,
   "metadata": {},
   "outputs": [
    {
     "name": "stdout",
     "output_type": "stream",
     "text": [
      "(2, 2, 3)\n",
      "[[[254 170 180]\n",
      "  [ 73  92  75]]\n",
      "\n",
      " [[ 36 254 247]\n",
      "  [253 141 156]]]\n"
     ]
    },
    {
     "data": {
      "image/png": "[encoded data removed]",
      "text/plain": [
       "<matplotlib.figure.Figure at 0x27f05d86a20>"
      ]
     },
     "metadata": {},
     "output_type": "display_data"
    },
    {
     "name": "stdout",
     "output_type": "stream",
     "text": [
      "(2, 6)\n",
      "[[254  73 170  92 180  75]\n",
      " [ 36 253 254 141 247 156]]\n"
     ]
    },
    {
     "data": {
      "image/png": "[encoded data removed]",
      "text/plain": [
       "<matplotlib.figure.Figure at 0x27f06e86cc0>"
      ]
     },
     "metadata": {},
     "output_type": "display_data"
    },
    {
     "name": "stdout",
     "output_type": "stream",
     "text": [
      "(1, 12)\n",
      "[[254  73 170  92 180  75  36 253 254 141 247 156]]\n"
     ]
    },
    {
     "data": {
      "image/png": "[encoded data removed]",
      "text/plain": [
       "<matplotlib.figure.Figure at 0x27f056fea58>"
      ]
     },
     "metadata": {},
     "output_type": "display_data"
    }
   ],
   "source": [
    "import numpy as np\n",
    "import matplotlib.pyplot as plt\n",
    "\n",
    "def f(x):\n",
    "    return np.uint8(x*256)\n",
    "f = np.vectorize(f)\n",
    "\n",
    "feature_image = f(np.random.random((2, 2, 3)))\n",
    "\n",
    "print(feature_image.shape)\n",
    "print(feature_image)\n",
    "\n",
    "plt.imshow(feature_image)\n",
    "plt.axis('off')\n",
    "plt.show()\n",
    "\n",
    "ch0_bins = feature_image[:,:,0]\n",
    "ch1_bins = feature_image[:,:,1]\n",
    "ch2_bins = feature_image[:,:,2]\n",
    "\n",
    "features = np.hstack((ch0_bins, ch1_bins, ch2_bins))\n",
    "\n",
    "print(features.shape)\n",
    "print(features)\n",
    "\n",
    "plt.subplot(131)\n",
    "plt.axis('off')\n",
    "plt.imshow(ch0_bins, cmap='Reds')\n",
    "plt.subplot(132)\n",
    "plt.axis('off')\n",
    "plt.imshow(ch1_bins, cmap='Greens')\n",
    "plt.subplot(133)\n",
    "plt.axis('off')\n",
    "plt.imshow(ch2_bins, cmap='Blues')\n",
    "plt.show()\n",
    "\n",
    "feature_flat = np.array([features.ravel()])\n",
    "\n",
    "print(feature_flat.shape)\n",
    "print(feature_flat)\n",
    "\n",
    "plt.subplot(161)\n",
    "plt.axis('off')\n",
    "plt.imshow([ch0_bins[0]], cmap='Reds')\n",
    "plt.subplot(162)\n",
    "plt.axis('off')\n",
    "plt.imshow([ch1_bins[0]], cmap='Greens')\n",
    "plt.subplot(163)\n",
    "plt.axis('off')\n",
    "plt.imshow([ch2_bins[0]], cmap='Blues')\n",
    "plt.subplot(164)\n",
    "plt.axis('off')\n",
    "plt.imshow([ch0_bins[1]], cmap='Reds')\n",
    "plt.subplot(165)\n",
    "plt.axis('off')\n",
    "plt.imshow([ch1_bins[1]], cmap='Greens')\n",
    "plt.subplot(166)\n",
    "plt.axis('off')\n",
    "plt.imshow([ch2_bins[1]], cmap='Blues')\n",
    "plt.show()"
   ]
  }
 ],
 "metadata": {
  "kernelspec": {
   "display_name": "Python 3",
   "language": "python",
   "name": "python3"
  },
  "language_info": {
   "codemirror_mode": {
    "name": "ipython",
    "version": 3
   },
   "file_extension": ".py",
   "mimetype": "text/x-python",
   "name": "python",
   "nbconvert_exporter": "python",
   "pygments_lexer": "ipython3",
   "version": "3.5.2"
  },
  "widgets": {
   "state": {},
   "version": "1.1.2"
  }
 },
 "nbformat": 4,
 "nbformat_minor": 2
}
