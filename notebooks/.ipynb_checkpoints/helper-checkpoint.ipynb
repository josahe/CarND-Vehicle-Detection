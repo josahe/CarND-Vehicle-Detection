{
 "cells": [
  {
   "cell_type": "code",
   "execution_count": null,
   "metadata": {},
   "outputs": [],
   "source": [
    "import cv2\n",
    "vidcap = cv2.VideoCapture('test_video.mp4')\n",
    "success,image = vidcap.read()\n",
    "count = 0\n",
    "success = True\n",
    "while success:\n",
    "  success,image = vidcap.read()\n",
    "  print('Read a new frame: ', success)\n",
    "  cv2.imwrite(\"test_video_frames/frame%d.jpg\" % count, image)     # save frame as JPEG file\n",
    "  count += 1"
   ]
  },
  {
   "cell_type": "code",
   "execution_count": null,
   "metadata": {},
   "outputs": [],
   "source": [
    "from PIL import Image\n",
    "project_video_frames = glob.glob('project_video_frames/*png')\n",
    "count = 0\n",
    "for img_src in project_video_frames:\n",
    "    filename = \"project_video_frames/frame%d.jpg\" % count # save frame as JPEG file\n",
    "    print(filename)\n",
    "    img = Image.open(img_src)\n",
    "    img.save(filename, \"JPEG\")\n",
    "    count += 1"
   ]
  },
  {
   "cell_type": "code",
   "execution_count": null,
   "metadata": {},
   "outputs": [],
   "source": [
    "import glob\n",
    "import cv2\n",
    "import numpy as np\n",
    "import matplotlib.image as mpimg\n",
    "project_video_frames = glob.glob('project_video_frames/*jpg')\n",
    "project_video_frame = project_video_frames[0]\n",
    "project_video_frame_image = mpimg.imread(project_video_frame)\n",
    "print(project_video_frame_image.shape)\n",
    "scale = 2\n",
    "project_video_frame_image_resized = cv2.resize(project_video_frame_image,\n",
    "                                               (np.int(project_video_frame_image.shape[1]/scale),\n",
    "                                                np.int(project_video_frame_image.shape[0]/scale)))\n",
    "print(project_video_frame_image.shape)\n",
    "print(project_video_frame_image_resized.shape)"
   ]
  },
  {
   "cell_type": "code",
   "execution_count": null,
   "metadata": {},
   "outputs": [],
   "source": [
    "bestx = 819\n",
    "bestw = 2\n",
    "\n",
    "minx = int(bestx - bestw/2)\n",
    "maxx = int(bestx + np.ceil(bestw/2) + 1)\n",
    "\n",
    "a = range(minx, maxx)\n",
    "for b in a:\n",
    "    print(b)"
   ]
  },
  {
   "cell_type": "code",
   "execution_count": 22,
   "metadata": {},
   "outputs": [
    {
     "name": "stdout",
     "output_type": "stream",
     "text": [
      "[3, 4, 5, 6, 7, 8, 9, 10, 11]\n",
      "[4, 5, 6, 7, 8, 9, 10, 11, 12]\n",
      "\n",
      "[8, 9, 10, 11, 12, 13, 14, 15, 16]\n",
      "[3, 4, 5, 6, 7, 8, 9, 10, 11]\n",
      "8\n",
      "4\n",
      "0.6666666666666666\n"
     ]
    }
   ],
   "source": [
    "import random\n",
    "\n",
    "x = random.randint(0,9)\n",
    "y = random.randint(0,9)\n",
    "rangex = [p for p in range(x,x+9)]\n",
    "rangey = [p for p in range(y,y+9)]\n",
    "\n",
    "x = random.randint(0,9)\n",
    "y = random.randint(0,9)\n",
    "xpixels = [p for p in range(x,x+9)]\n",
    "ypixels = [p for p in range(y,y+9)]\n",
    "\n",
    "print(sorted(rangex))\n",
    "print(sorted(xpixels))\n",
    "print()\n",
    "print(sorted(rangey))\n",
    "print(sorted(ypixels))\n",
    "\n",
    "resultx = len(list(set(rangex) & set(xpixels)))\n",
    "resulty = len(list(set(rangey) & set(ypixels)))\n",
    "\n",
    "print(resultx)\n",
    "print(resulty)\n",
    "\n",
    "print((resultx+resulty)/(len(rangex)+len(rangey)))\n",
    "#print(resultx/len(rangex))"
   ]
  },
  {
   "cell_type": "code",
   "execution_count": null,
   "metadata": {},
   "outputs": [],
   "source": [
    "import cv2\n",
    "vidcap = cv2.VideoCapture('examples/spatial_binningtest_video.mp4')\n",
    "success,image = vidcap.read()\n",
    "count = 0\n",
    "success = True\n",
    "while success:\n",
    "  success,image = vidcap.read()\n",
    "  print('Read a new frame: ', success)\n",
    "  cv2.imwrite(\"test_video_frames/frame%d.jpg\" % count, image)     # save frame as JPEG file\n",
    "  count += 1"
   ]
  }
 ],
 "metadata": {
  "kernelspec": {
   "display_name": "Python 3",
   "language": "python",
   "name": "python3"
  },
  "language_info": {
   "codemirror_mode": {
    "name": "ipython",
    "version": 3
   },
   "file_extension": ".py",
   "mimetype": "text/x-python",
   "name": "python",
   "nbconvert_exporter": "python",
   "pygments_lexer": "ipython3",
   "version": "3.5.2"
  },
  "widgets": {
   "state": {},
   "version": "1.1.2"
  }
 },
 "nbformat": 4,
 "nbformat_minor": 2
}
